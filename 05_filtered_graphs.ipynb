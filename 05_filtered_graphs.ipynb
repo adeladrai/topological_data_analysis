{
  "cells": [
    {
      "cell_type": "markdown",
      "metadata": {
        "id": "fVI169CuFv8G"
      },
      "source": [
        "# Filtered graphs"
      ]
    },
    {
      "cell_type": "markdown",
      "metadata": {
        "id": "NU2yRayrSDHr"
      },
      "source": [
        "## A new data structure\n",
        "\n",
        "We now introduce a new data structure encoding filtered graphs, generalizing the previous construction for weighted graphs.\n",
        "\n",
        "Consider a filtered graph\n",
        "\n",
        "$$\n",
        "\\Gamma_{t_0} \\subset \\Gamma_{t_1} \\subset \\dotsb \\subset \\Gamma_{t_N}.\n",
        "$$\n",
        "\n",
        "Let $\\phi$ be the real-valued function on the vertices and edges of $\\Gamma_{t_N}$ with $\\phi(x)$ the smallest transition value $t_i$ for which $x$ is part of $\\Gamma_{t_i}$.\n",
        "\n",
        "Clearly, the filtered graph can be reconstructed from the **terminal graph** $\\Gamma_{t_N}$ and the **filtration function** $\\phi$.\n",
        "\n",
        "Conversely, almost any real-valued function $\\phi$ defined on the vertices and edges of a graph $G$ determines a filtered graph with $\\phi$ as its filtration function and $G$ as its terminal graph.\n",
        "The only requirement is that for any edge $(v, w)$ of $G$, we must have\n",
        "\n",
        "$$\n",
        "\\phi(v, w) \\geq \\max(\\phi(v), \\phi(w)),\n",
        "$$\n",
        "\n",
        "Since we can not have an edge whose vertices are missing.\n",
        "\n",
        "---\n",
        "\n",
        "#### Challenge 1\n",
        "\n",
        "Construct the filtration function and terminal graph of the filtered graph associated to a given weighted graph.\n",
        "\n",
        "---\n",
        "\n",
        "Given a weighted graph $W = (V, E)$ with weight function $w \\colon E \\to \\mathbb{R}$, we can view $W$ as a filtered graph by defining the filtration function $\\phi$ and the terminal graph as follows.\n",
        "\n",
        "- **Terminal Graph:**  \n",
        "  The terminal graph is simply the original graph $W$, that is, $W$ itself with vertices $V$ and edges $E$.\n",
        "\n",
        "- **Filtration Function $\\phi$:**  \n",
        "  We define a function $\\phi$ on the vertices and edges of $W$ by:\n",
        "  - For every vertex $v \\in V$, set  \n",
        "    $$\\phi(v) = 0.$$  \n",
        "    This means that all vertices are present from the start of the filtration.\n",
        "  - For every edge $e = (v, w) \\in E$, set  \n",
        "    $$\\phi(v, w) = w(e).$$\n",
        "\n",
        "This definition satisfies the necessary condition: for any edge $(v, w)$,\n",
        "$$\\phi(v, w) \\geq \\max(\\phi(v), \\phi(w)),$$\n",
        "since $w(e) \\geq 0$ for all edges (assuming non-negative weights).\n",
        "\n",
        "- **Filtered Graph Construction:**  \n",
        "  For any threshold $t \\in \\mathbb{R}$, the subgraph $\\Gamma_t$ of the filtered graph is given by\n",
        "  $$\\Gamma_t = \\{ v \\in V \\mid \\phi(v) \\leq t \\} \\cup \\{ e \\in E \\mid \\phi(e) \\leq t \\}.$$\n",
        "  Since $\\phi(v)=0$ for every vertex, all vertices are included for every $t \\geq 0$, and the edges appear as $t$ increases according to their weights.\n",
        "\n",
        "Thus, the filtered graph associated to the weighted graph $W$ is completely determined by the terminal graph $W$ and the filtration function $\\phi$ defined above."
      ]
    }
  ],
  "metadata": {
    "colab": {
      "provenance": []
    },
    "kernelspec": {
      "display_name": "Python 3",
      "name": "python3"
    },
    "language_info": {
      "name": "python"
    }
  },
  "nbformat": 4,
  "nbformat_minor": 0
}
