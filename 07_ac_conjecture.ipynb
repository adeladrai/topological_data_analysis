{
  "cells": [
    {
      "cell_type": "markdown",
      "metadata": {
        "id": "owwnPu5QUYd7"
      },
      "source": [
        "# The AC Conjecture and other path search problems"
      ]
    },
    {
      "cell_type": "markdown",
      "metadata": {
        "id": "7O4ennP1SgiR"
      },
      "source": [
        "## Group theory background"
      ]
    },
    {
      "cell_type": "markdown",
      "metadata": {
        "id": "510-6Y-b4kfb"
      },
      "source": [
        "\n",
        "## Statement"
      ]
    },
    {
      "cell_type": "markdown",
      "metadata": {
        "id": "o6L8czzahfLo"
      },
      "source": [
        "### Hardness of a single presentation"
      ]
    },
    {
      "cell_type": "markdown",
      "metadata": {
        "id": "nTdhoM3sApIs"
      },
      "source": [
        "### Intuitive hardness of the problem as a whole"
      ]
    },
    {
      "cell_type": "markdown",
      "metadata": {
        "id": "bxpalSMWbMvP"
      },
      "source": [
        "### Filtered based graphs\n",
        "\n",
        "---\n",
        "\n",
        "#### Challenge 1\n",
        "\n",
        "Notice that the hardness of a presentation with length $\\ell$ is $k - \\ell$ if $k$ is the smallest filtration value such that its corresponding node is in the same connected component of $\\Gamma_k$ as the base node.  \n",
        "\n",
        "---\n",
        "\n",
        "**Answer**\n",
        "\n",
        "Recall that for a presentation with length $\\ell$, its corresponding node in the filtered based graph is assigned a filtration value of $\\phi(\\text{node}) = \\ell - n$, where $n$ is the baseline so that the trivial presentation has value $0$. An AC-path connecting a presentation to the trivial presentation is a sequence of nodes (presentations) such that each consecutive pair is related by an AC-move, and the **cost** of the path is defined as the maximal increase in the filtration value encountered along the path relative to the starting presentation's filtration value.\n",
        "\n",
        "Now, if $k$ is the smallest filtration value such that the node for our presentation is in the same connected component of $\\Gamma_k$ as the base node (the trivial presentation), then there exists an AC-path from our presentation to the trivial presentation that never exceeds the filtration value $k$. Thus, the maximal length reached along this path is $k$, and the **cost** of the path is\n",
        "$$\n",
        "k - \\ell.\n",
        "$$\n",
        "\n",
        "This cost is exactly the **hardness** of the presentation. In other words, the hardness of a presentation with length $\\ell$ is given by $k - \\ell$, where $k$ is the smallest filtration value for which its node is connected to the base node.\n",
        "\n",
        "---\n",
        "\n",
        "#### Challenge 2\n",
        "\n",
        "Notice that the minimal length of an $AC$-path connecting $\\pi$ and $\\pi'$ is $k \\geq \\ell(\\pi') \\geq \\ell(\\pi)$ if an only iff $\\pi$ and $\\pi'$ belong to the same connected component in $\\Gamma_{k + \\ell(\\pi)}$ but to distinct ones in $\\Gamma_{k + \\ell(\\pi) - 1}$.\n",
        "\n",
        "---\n",
        "\n",
        "**Answer**\n",
        "\n",
        "Let $\\pi$ and $\\pi'$ be two presentations with lengths $\\ell(\\pi)$ and $\\ell(\\pi')$, where $\\ell(\\pi') \\geq \\ell(\\pi)$. Suppose the minimal AC-path connecting $\\pi$ and $\\pi'$ has maximal length $k + \\ell(\\pi)$ (so that its cost is $k$).\n",
        "\n",
        "- **($\\Rightarrow$)**  \n",
        "  If the minimal AC-path has maximal length $k + \\ell(\\pi)$, then every presentation along this path has length at most $k + \\ell(\\pi)$. Consequently, $\\pi$ and $\\pi'$ are in the same connected component of the filtered graph $\\Gamma_{k + \\ell(\\pi)}$. Moreover, if they were already connected in $\\Gamma_{k + \\ell(\\pi) - 1}$, then there would exist an AC-path with maximal length at most $k + \\ell(\\pi) - 1$, contradicting the minimality of $k$. Therefore, $\\pi$ and $\\pi'$ belong to distinct components in $\\Gamma_{k + \\ell(\\pi) - 1}$.\n",
        "\n",
        "- **($\\Leftarrow$)**  \n",
        "  Conversely, assume that $\\pi$ and $\\pi'$ lie in the same connected component in $\\Gamma_{k + \\ell(\\pi)}$ but in different components in $\\Gamma_{k + \\ell(\\pi) - 1}$. Then any AC-path connecting $\\pi$ and $\\pi'$ must include at least one presentation of length at least $k + \\ell(\\pi)$, implying that the minimal possible maximal length along any such path is exactly $k + \\ell(\\pi)$. In other words, the minimal AC-path has cost $k$.\n",
        "\n",
        "Thus, the minimal AC-path connecting $\\pi$ and $\\pi'$ has maximal length $k + \\ell(\\pi)$ (or cost $k$) if and only if $\\pi$ and $\\pi'$ are in the same connected component of $\\Gamma_{k + \\ell(\\pi)}$ but in different components of $\\Gamma_{k + \\ell(\\pi) - 1}$.\n",
        "\n",
        "---"
      ]
    },
    {
      "cell_type": "markdown",
      "metadata": {
        "id": "79rfLl7ft2xm"
      },
      "source": [
        "## Hardness of a base search problem on a filtered graph"
      ]
    },
    {
      "cell_type": "markdown",
      "metadata": {
        "id": "tGdeD4yseAuG"
      },
      "source": [
        "## Random examples"
      ]
    }
  ],
  "metadata": {
    "colab": {
      "provenance": []
    },
    "kernelspec": {
      "display_name": "tda2025",
      "language": "python",
      "name": "python3"
    },
    "language_info": {
      "name": "python",
      "version": "3.11.11"
    }
  },
  "nbformat": 4,
  "nbformat_minor": 0
}
