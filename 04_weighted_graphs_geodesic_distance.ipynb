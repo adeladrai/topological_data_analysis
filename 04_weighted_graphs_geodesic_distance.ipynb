{
  "cells": [
    {
      "cell_type": "markdown",
      "metadata": {
        "id": "uQIA0dWQ0Duk"
      },
      "source": [
        "# Weighted graphs & geodesic distance"
      ]
    },
    {
      "cell_type": "markdown",
      "metadata": {
        "id": "JJfY-P3Uqlrp"
      },
      "source": [
        "## Definitions\n",
        "\n",
        "A **weighted graph** is a graph $W = (V, E)$ equipped with a function $w \\colon E \\to \\mathbb{R}$, which assigns a **weight** to each edge. The weight of an edge $e \\in E$ is the value $w(e)$.  \n",
        "\n",
        "Any graph can be viewed as a weighted graph by assigning a weight of 1 to each of its edges.  \n",
        "\n",
        "The **geodesic distance** between two nodes in a weighted graph is defined as the smallest weight of path connecting them.\n",
        "Here, the length of a path is the sum of the weights of the edges it contains.  \n",
        "\n",
        "For unweighted graphs, the geodesic distance corresponds to the minimum number of edges traversed in a path connecting two nodes.  \n",
        "\n",
        "---\n",
        "\n",
        "#### Challenge 1\n",
        "\n",
        "Investigate the algorithms commonly used to compute the geodesic distance in graphs.\n",
        "Consider comparing their efficiency, implementation, and suitability for different types of graphs.\n",
        "\n",
        "---\n",
        "\n",
        "**Answer**\n",
        "\n",
        "## 1. Breadth-First Search ($\\text{BFS}$)\n",
        "- **Usage:** Unweighted graphs (or graphs with uniform edge weights).\n",
        "- **Efficiency:** Runs in $O(|V| + |E|)$ time, where $|V|$ is the number of vertices and $|E|$ is the number of edges.\n",
        "- **Implementation:** Utilizes a queue to explore nodes level-by-level.\n",
        "- **Suitability:** Ideal for unweighted graphs or graphs where each edge has the same weight (e.g., weight $1$).\n",
        "\n",
        "## 2. Dijkstra's Algorithm\n",
        "- **Usage:** Weighted graphs with non-negative edge weights.\n",
        "- **Efficiency:** With a binary heap, it runs in $O(|E| \\log |V|)$; using a Fibonacci heap, it can achieve $O(|V| \\log |V| + |E|)$.\n",
        "- **Implementation:** Uses a priority queue to always expand the closest unvisited vertex.\n",
        "- **Suitability:** Best for graphs with non-negative weights; widely used in routing and navigation.\n",
        "\n",
        "## 3. Bellman-Ford Algorithm\n",
        "- **Usage:** Graphs that may include negative edge weights (but no negative cycles).\n",
        "- **Efficiency:** Runs in $O(|V| \\cdot |E|)$ time.\n",
        "- **Implementation:** Iteratively relaxes all edges, updating the shortest distance estimates.\n",
        "- **Suitability:** Useful when negative weights are present and when detection of negative cycles is required.\n",
        "\n",
        "## 4. Floyd-Warshall Algorithm\n",
        "- **Usage:** All-pairs shortest paths in weighted graphs.\n",
        "- **Efficiency:** Runs in $O(|V|^3)$ time.\n",
        "- **Implementation:** Uses dynamic programming to compute the shortest distances between every pair of vertices.\n",
        "- **Suitability:** Best for dense graphs or when distances between all pairs of vertices are needed, though it is less efficient for very large sparse graphs.\n",
        "\n",
        "## 5. A* Search Algorithm\n",
        "- **Usage:** Finding a single shortest path in weighted graphs with a well-defined heuristic.\n",
        "- **Efficiency:** Depends on the quality of the heuristic; can be much faster than Dijkstra's algorithm when the heuristic is close to the actual distance.\n",
        "- **Implementation:** Combines Dijkstra's algorithm with a heuristic function $h(n)$ that estimates the distance from node $n$ to the target.\n",
        "- **Suitability:** Highly effective for spatial graphs (e.g., maps) where admissible heuristics (like Euclidean or Manhattan distances) can be used.\n",
        "\n",
        "## Summary Comparison\n",
        "- **BFS:** Simple and optimal for unweighted graphs.\n",
        "- **Dijkstra's Algorithm:** Standard choice for non-negative weighted graphs.\n",
        "- **Bellman-Ford:** Handles negative weights but with higher time complexity.\n",
        "- **Floyd-Warshall:** Suitable for all-pairs shortest paths, especially in smaller or denser graphs.\n",
        "- **A*:** Efficient when a good heuristic is available, reducing the search space for a specific target.\n"
      ]
    }
  ],
  "metadata": {
    "colab": {
      "provenance": []
    },
    "kernelspec": {
      "display_name": "tda2025",
      "language": "python",
      "name": "python3"
    },
    "language_info": {
      "name": "python",
      "version": "3.11.11"
    }
  },
  "nbformat": 4,
  "nbformat_minor": 0
}
